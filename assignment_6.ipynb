{
  "nbformat": 4,
  "nbformat_minor": 0,
  "metadata": {
    "colab": {
      "provenance": [],
      "machine_shape": "hm",
      "authorship_tag": "ABX9TyPJxjSTQPA0e8GWQ90fyMYv",
      "include_colab_link": true
    },
    "kernelspec": {
      "name": "python3",
      "display_name": "Python 3"
    },
    "language_info": {
      "name": "python"
    },
    "accelerator": "GPU",
    "gpuClass": "premium"
  },
  "cells": [
    {
      "cell_type": "markdown",
      "metadata": {
        "id": "view-in-github",
        "colab_type": "text"
      },
      "source": [
        "<a href=\"https://colab.research.google.com/github/Afzal-shaikh/reinforcement_assignment/blob/main/assignment_6.ipynb\" target=\"_parent\"><img src=\"https://colab.research.google.com/assets/colab-badge.svg\" alt=\"Open In Colab\"/></a>"
      ]
    },
    {
      "cell_type": "code",
      "source": [
        "# Python ≥3.5 is required\n",
        "import sys\n",
        "assert sys.version_info >= (3, 5)\n",
        "\n",
        "# Is this notebook running on Colab or Kaggle?\n",
        "IS_COLAB = \"google.colab\" in sys.modules\n",
        "IS_KAGGLE = \"kaggle_secrets\" in sys.modules\n",
        "\n",
        "if IS_COLAB or IS_KAGGLE:\n",
        "    !apt update && apt install -y libpq-dev libsdl2-dev swig xorg-dev xvfb\n",
        "    %pip install -U tf-agents pyvirtualdisplay\n",
        "    %pip install -U gym~=0.21.0\n",
        "    %pip install -U gym[box2d,atari,accept-rom-license]\n",
        "\n",
        "!sudo apt-get update\n",
        "!sudo apt-get install -y xvfb ffmpeg freeglut3-dev\n",
        "!pip install 'imageio==2.4.0'\n",
        "!pip install tensorflow==2.11\n",
        "!pip install pyvirtualdisplay\n",
        "!pip install pyglet\n",
        "\n",
        "# TensorFlow ≥2.0 is required\n",
        "import tensorflow as tf\n",
        "from tensorflow import keras\n",
        "assert tf.__version__ >= \"2.0\""
      ],
      "metadata": {
        "id": "tV_3i0lzF04g"
      },
      "execution_count": null,
      "outputs": []
    },
    {
      "cell_type": "code",
      "source": [
        "from __future__ import absolute_import, division, print_function\n",
        "\n",
        "import base64\n",
        "import imageio\n",
        "import IPython\n",
        "import matplotlib\n",
        "import matplotlib.pyplot as plt\n",
        "import numpy as np\n",
        "import PIL.Image\n",
        "import pyvirtualdisplay\n",
        "\n",
        "import tensorflow as tf\n",
        "\n",
        "from tf_agents.agents.dqn import dqn_agent\n",
        "from tf_agents.drivers import py_driver\n",
        "from tf_agents.environments import suite_gym\n",
        "from tf_agents.environments import tf_py_environment\n",
        "from tf_agents.eval import metric_utils\n",
        "from tf_agents.metrics import tf_metrics\n",
        "from tf_agents.networks import sequential\n",
        "from tf_agents.policies import py_tf_eager_policy\n",
        "from tf_agents.policies import random_tf_policy\n",
        "from tf_agents.replay_buffers import reverb_replay_buffer\n",
        "from tf_agents.replay_buffers import reverb_utils\n",
        "from tf_agents.trajectories import trajectory\n",
        "from tf_agents.specs import tensor_spec\n",
        "from tf_agents.utils import common"
      ],
      "metadata": {
        "id": "i3Bg5W5HKmqS"
      },
      "execution_count": 21,
      "outputs": []
    },
    {
      "cell_type": "code",
      "source": [
        "from tf_agents.environments import suite_gym\n",
        "\n",
        "env = suite_gym.load('LunarLander-v2')"
      ],
      "metadata": {
        "id": "x6hauPWbKqpa"
      },
      "execution_count": 22,
      "outputs": []
    },
    {
      "cell_type": "code",
      "source": [
        "display = pyvirtualdisplay.Display(visible=0, size=(1400, 900)).start()"
      ],
      "metadata": {
        "id": "eSn7SISTK2hY"
      },
      "execution_count": 23,
      "outputs": []
    },
    {
      "cell_type": "code",
      "source": [
        "env.reset()\n",
        "PIL.Image.fromarray(env.render())"
      ],
      "metadata": {
        "colab": {
          "base_uri": "https://localhost:8080/",
          "height": 417
        },
        "id": "JLhnlV5qK39K",
        "outputId": "081ce18d-7cbb-49a1-8a57-fa14aefd3f10"
      },
      "execution_count": 24,
      "outputs": [
        {
          "output_type": "execute_result",
          "data": {
            "text/plain": [
              "<PIL.Image.Image image mode=RGB size=600x400 at 0x7FBA40E79400>"
            ],
            "image/png": "[encoded data removed]"
          },
          "metadata": {},
          "execution_count": 24
        }
      ]
    },
    {
      "cell_type": "code",
      "source": [
        "print('Observation Spec:')\n",
        "print(env.time_step_spec().observation)"
      ],
      "metadata": {
        "colab": {
          "base_uri": "https://localhost:8080/"
        },
        "id": "5jBtXZIAK5Wm",
        "outputId": "780bdb8b-a51a-4e5c-835b-2beb70ac50fe"
      },
      "execution_count": 25,
      "outputs": [
        {
          "output_type": "stream",
          "name": "stdout",
          "text": [
            "Observation Spec:\n",
            "BoundedArraySpec(shape=(8,), dtype=dtype('float32'), name='observation', minimum=-3.4028234663852886e+38, maximum=3.4028234663852886e+38)\n"
          ]
        }
      ]
    },
    {
      "cell_type": "code",
      "source": [
        "print('Reward Spec:')\n",
        "print(env.time_step_spec().reward)"
      ],
      "metadata": {
        "colab": {
          "base_uri": "https://localhost:8080/"
        },
        "id": "Zv8dQdgxLCxj",
        "outputId": "8249ac92-9520-40a3-9f90-f7fa8bd1c372"
      },
      "execution_count": 26,
      "outputs": [
        {
          "output_type": "stream",
          "name": "stdout",
          "text": [
            "Reward Spec:\n",
            "ArraySpec(shape=(), dtype=dtype('float32'), name='reward')\n"
          ]
        }
      ]
    },
    {
      "cell_type": "code",
      "source": [
        "print('Action Spec:')\n",
        "print(env.action_spec())"
      ],
      "metadata": {
        "colab": {
          "base_uri": "https://localhost:8080/"
        },
        "id": "vVUA6ku9LEhB",
        "outputId": "bf4e3baf-8de8-47b1-80ae-1f3bc51f7494"
      },
      "execution_count": 27,
      "outputs": [
        {
          "output_type": "stream",
          "name": "stdout",
          "text": [
            "Action Spec:\n",
            "BoundedArraySpec(shape=(), dtype=dtype('int64'), name='action', minimum=0, maximum=3)\n"
          ]
        }
      ]
    },
    {
      "cell_type": "code",
      "source": [
        "time_step = env.reset()\n",
        "print('Time step:')\n",
        "print(time_step)\n",
        "\n",
        "action = np.array(1, dtype=np.int32)\n",
        "\n",
        "next_time_step = env.step(action)\n",
        "print('Next time step:')\n",
        "print(next_time_step)"
      ],
      "metadata": {
        "colab": {
          "base_uri": "https://localhost:8080/"
        },
        "id": "ad_6DHolLGdE",
        "outputId": "4250a5c5-6e46-41c0-ba88-cd857c71082f"
      },
      "execution_count": 28,
      "outputs": [
        {
          "output_type": "stream",
          "name": "stdout",
          "text": [
            "Time step:\n",
            "TimeStep(\n",
            "{'discount': array(1., dtype=float32),\n",
            " 'observation': array([ 0.00374308,  1.4137986 ,  0.37911636,  0.12792097, -0.00433048,\n",
            "       -0.08587547,  0.        ,  0.        ], dtype=float32),\n",
            " 'reward': array(0., dtype=float32),\n",
            " 'step_type': array(0, dtype=int32)})\n",
            "Next time step:\n",
            "TimeStep(\n",
            "{'discount': array(1., dtype=float32),\n",
            " 'observation': array([ 0.0074151 ,  1.4161056 ,  0.3696905 ,  0.10253324, -0.00678579,\n",
            "       -0.04910999,  0.        ,  0.        ], dtype=float32),\n",
            " 'reward': array(1.1393477, dtype=float32),\n",
            " 'step_type': array(1, dtype=int32)})\n"
          ]
        }
      ]
    },
    {
      "cell_type": "code",
      "source": [
        "num_iterations = 20000 # @param {type:\"integer\"}\n",
        "\n",
        "initial_collect_steps = 100  # @param {type:\"integer\"}\n",
        "collect_steps_per_iteration =   1# @param {type:\"integer\"}\n",
        "replay_buffer_max_length = 100000  # @param {type:\"integer\"}\n",
        "\n",
        "batch_size = 64  # @param {type:\"integer\"}\n",
        "learning_rate = 1e-3  # @param {type:\"number\"}\n",
        "log_interval = 200  # @param {type:\"integer\"}\n",
        "\n",
        "num_eval_episodes = 10  # @param {type:\"integer\"}\n",
        "eval_interval = 1000  # @param {type:\"integer\"}"
      ],
      "metadata": {
        "id": "dhQRfnBQPnJz"
      },
      "execution_count": 58,
      "outputs": []
    },
    {
      "cell_type": "code",
      "source": [
        "train_py_env = suite_gym.load('LunarLander-v2')\n",
        "eval_py_env = suite_gym.load('LunarLander-v2')\n",
        "\n",
        "train_env = tf_py_environment.TFPyEnvironment(train_py_env)\n",
        "eval_env = tf_py_environment.TFPyEnvironment(eval_py_env)"
      ],
      "metadata": {
        "id": "ZFVX33AzLIV1"
      },
      "execution_count": 59,
      "outputs": []
    },
    {
      "cell_type": "code",
      "source": [
        "fc_layer_params = (100, 50)\n",
        "action_tensor_spec = tensor_spec.from_spec(env.action_spec())\n",
        "num_actions = action_tensor_spec.maximum - action_tensor_spec.minimum + 1\n",
        "\n",
        "# Define a helper function to create Dense layers configured with the right\n",
        "# activation and kernel initializer.\n",
        "def dense_layer(num_units):\n",
        "  return tf.keras.layers.Dense(\n",
        "      num_units,\n",
        "      activation=tf.keras.activations.relu,\n",
        "      kernel_initializer=tf.keras.initializers.VarianceScaling(\n",
        "          scale=2.0, mode='fan_in', distribution='truncated_normal'))\n",
        "\n",
        "# QNetwork consists of a sequence of Dense layers followed by a dense layer\n",
        "# with `num_actions` units to generate one q_value per available action as\n",
        "# its output.\n",
        "dense_layers = [dense_layer(num_units) for num_units in fc_layer_params]\n",
        "q_values_layer = tf.keras.layers.Dense(\n",
        "    num_actions,\n",
        "    activation=None,\n",
        "    kernel_initializer=tf.keras.initializers.RandomUniform(\n",
        "        minval=-0.03, maxval=0.03),\n",
        "    bias_initializer=tf.keras.initializers.Constant(-0.2))\n",
        "q_net = sequential.Sequential(dense_layers + [q_values_layer])"
      ],
      "metadata": {
        "id": "-KKF_PhPPcOd"
      },
      "execution_count": 60,
      "outputs": []
    },
    {
      "cell_type": "code",
      "source": [
        "optimizer = tf.keras.optimizers.Adam(learning_rate=learning_rate)\n",
        "\n",
        "train_step_counter = tf.Variable(0)\n",
        "\n",
        "agent = dqn_agent.DqnAgent(\n",
        "    train_env.time_step_spec(),\n",
        "    train_env.action_spec(),\n",
        "    q_network=q_net,\n",
        "    optimizer=optimizer,\n",
        "    td_errors_loss_fn=common.element_wise_squared_loss,\n",
        "    train_step_counter=train_step_counter)\n",
        "\n",
        "agent.initialize()"
      ],
      "metadata": {
        "id": "OsUBoyRjPgm1"
      },
      "execution_count": 61,
      "outputs": []
    },
    {
      "cell_type": "code",
      "source": [
        "eval_policy = agent.policy\n",
        "collect_policy = agent.collect_policy"
      ],
      "metadata": {
        "id": "Trbg2GxvPpfg"
      },
      "execution_count": 62,
      "outputs": []
    },
    {
      "cell_type": "code",
      "source": [
        "random_policy = random_tf_policy.RandomTFPolicy(train_env.time_step_spec(),\n",
        "                                                train_env.action_spec())"
      ],
      "metadata": {
        "id": "EnTqGAeZPt4z"
      },
      "execution_count": 63,
      "outputs": []
    },
    {
      "cell_type": "code",
      "source": [
        "example_environment = tf_py_environment.TFPyEnvironment(\n",
        "    suite_gym.load('LunarLander-v2'))"
      ],
      "metadata": {
        "id": "GYXdwiYKPvz1"
      },
      "execution_count": 64,
      "outputs": []
    },
    {
      "cell_type": "code",
      "source": [
        "time_step = example_environment.reset()"
      ],
      "metadata": {
        "id": "3Gijj7unP2H6"
      },
      "execution_count": 65,
      "outputs": []
    },
    {
      "cell_type": "code",
      "source": [
        "random_policy.action(time_step)"
      ],
      "metadata": {
        "colab": {
          "base_uri": "https://localhost:8080/"
        },
        "id": "JSd8YjWUP4Jz",
        "outputId": "29d1697b-e364-4662-fe32-05ad672c0f25"
      },
      "execution_count": 66,
      "outputs": [
        {
          "output_type": "execute_result",
          "data": {
            "text/plain": [
              "PolicyStep(action=<tf.Tensor: shape=(1,), dtype=int64, numpy=array([2])>, state=(), info=())"
            ]
          },
          "metadata": {},
          "execution_count": 66
        }
      ]
    },
    {
      "cell_type": "code",
      "source": [
        "def compute_avg_return(environment, policy, num_episodes=10):\n",
        "\n",
        "  total_return = 0.0\n",
        "  for _ in range(num_episodes):\n",
        "\n",
        "    time_step = environment.reset()\n",
        "    episode_return = 0.0\n",
        "\n",
        "    while not time_step.is_last():\n",
        "      action_step = policy.action(time_step)\n",
        "      time_step = environment.step(action_step.action)\n",
        "      episode_return += time_step.reward\n",
        "    total_return += episode_return\n",
        "\n",
        "  avg_return = total_return / num_episodes\n",
        "  return avg_return.numpy()[0]"
      ],
      "metadata": {
        "id": "2X3MaaElP6HB"
      },
      "execution_count": 67,
      "outputs": []
    },
    {
      "cell_type": "code",
      "source": [
        "compute_avg_return(eval_env, random_policy, num_eval_episodes)"
      ],
      "metadata": {
        "colab": {
          "base_uri": "https://localhost:8080/"
        },
        "id": "BbUw2TTgP9Eg",
        "outputId": "513b225e-4b50-46a2-fdc4-a507b41b3038"
      },
      "execution_count": 68,
      "outputs": [
        {
          "output_type": "execute_result",
          "data": {
            "text/plain": [
              "-202.87767"
            ]
          },
          "metadata": {},
          "execution_count": 68
        }
      ]
    },
    {
      "cell_type": "code",
      "source": [
        "from tf_agents.replay_buffers import tf_uniform_replay_buffer\n",
        "\n",
        "replay_buffer = tf_uniform_replay_buffer.TFUniformReplayBuffer(\n",
        "    data_spec=agent.collect_data_spec,\n",
        "    batch_size=train_env.batch_size,\n",
        "    max_length=100000) # reduce if OOM error\n",
        "\n",
        "replay_buffer_observer = replay_buffer.add_batch"
      ],
      "metadata": {
        "id": "m23o3QxcP_x0"
      },
      "execution_count": 70,
      "outputs": []
    },
    {
      "cell_type": "code",
      "source": [
        "agent.collect_data_spec"
      ],
      "metadata": {
        "colab": {
          "base_uri": "https://localhost:8080/"
        },
        "id": "7SjnznhcQULc",
        "outputId": "e213ed41-354f-4036-8e8e-1ef801bddc13"
      },
      "execution_count": 71,
      "outputs": [
        {
          "output_type": "execute_result",
          "data": {
            "text/plain": [
              "Trajectory(\n",
              "{'action': BoundedTensorSpec(shape=(), dtype=tf.int64, name='action', minimum=array(0), maximum=array(3)),\n",
              " 'discount': BoundedTensorSpec(shape=(), dtype=tf.float32, name='discount', minimum=array(0., dtype=float32), maximum=array(1., dtype=float32)),\n",
              " 'next_step_type': TensorSpec(shape=(), dtype=tf.int32, name='step_type'),\n",
              " 'observation': BoundedTensorSpec(shape=(8,), dtype=tf.float32, name='observation', minimum=array(-3.4028235e+38, dtype=float32), maximum=array(3.4028235e+38, dtype=float32)),\n",
              " 'policy_info': (),\n",
              " 'reward': TensorSpec(shape=(), dtype=tf.float32, name='reward'),\n",
              " 'step_type': TensorSpec(shape=(), dtype=tf.int32, name='step_type')})"
            ]
          },
          "metadata": {},
          "execution_count": 71
        }
      ]
    },
    {
      "cell_type": "code",
      "source": [
        "agent.collect_data_spec._fields"
      ],
      "metadata": {
        "colab": {
          "base_uri": "https://localhost:8080/"
        },
        "id": "B3RGbO9SQWpJ",
        "outputId": "908c3e8d-fc69-414c-c07c-aa848b5c5fb0"
      },
      "execution_count": 72,
      "outputs": [
        {
          "output_type": "execute_result",
          "data": {
            "text/plain": [
              "('step_type',\n",
              " 'observation',\n",
              " 'action',\n",
              " 'policy_info',\n",
              " 'next_step_type',\n",
              " 'reward',\n",
              " 'discount')"
            ]
          },
          "metadata": {},
          "execution_count": 72
        }
      ]
    },
    {
      "cell_type": "code",
      "source": [
        "dataset = replay_buffer.as_dataset(\n",
        "    num_parallel_calls=3,\n",
        "    sample_batch_size=batch_size,\n",
        "    num_steps=2).prefetch(3)\n",
        "\n",
        "dataset"
      ],
      "metadata": {
        "colab": {
          "base_uri": "https://localhost:8080/"
        },
        "id": "Beja1qxBQbFq",
        "outputId": "19a309ee-cb73-46eb-e631-0ff2158b0304"
      },
      "execution_count": 75,
      "outputs": [
        {
          "output_type": "execute_result",
          "data": {
            "text/plain": [
              "<PrefetchDataset element_spec=(Trajectory(\n",
              "{'action': TensorSpec(shape=(64, 2), dtype=tf.int64, name=None),\n",
              " 'discount': TensorSpec(shape=(64, 2), dtype=tf.float32, name=None),\n",
              " 'next_step_type': TensorSpec(shape=(64, 2), dtype=tf.int32, name=None),\n",
              " 'observation': TensorSpec(shape=(64, 2, 8), dtype=tf.float32, name=None),\n",
              " 'policy_info': (),\n",
              " 'reward': TensorSpec(shape=(64, 2), dtype=tf.float32, name=None),\n",
              " 'step_type': TensorSpec(shape=(64, 2), dtype=tf.int32, name=None)}), BufferInfo(ids=TensorSpec(shape=(64, 2), dtype=tf.int64, name=None), probabilities=TensorSpec(shape=(64,), dtype=tf.float32, name=None)))>"
            ]
          },
          "metadata": {},
          "execution_count": 75
        }
      ]
    },
    {
      "cell_type": "code",
      "source": [
        "iterator = iter(dataset)\n",
        "print(iterator)"
      ],
      "metadata": {
        "colab": {
          "base_uri": "https://localhost:8080/"
        },
        "id": "qcYWJPeHQkMc",
        "outputId": "d14aa6d2-aeed-4709-e613-05bce7007521"
      },
      "execution_count": 76,
      "outputs": [
        {
          "output_type": "stream",
          "name": "stdout",
          "text": [
            "<tensorflow.python.data.ops.iterator_ops.OwnedIterator object at 0x7fb9d02438e0>\n"
          ]
        }
      ]
    },
    {
      "cell_type": "code",
      "source": [
        "from tf_agents.metrics import tf_metrics\n",
        "\n",
        "train_metrics = [\n",
        "    tf_metrics.NumberOfEpisodes(),\n",
        "    tf_metrics.EnvironmentSteps(),\n",
        "    tf_metrics.AverageReturnMetric(),\n",
        "    tf_metrics.AverageEpisodeLengthMetric(),\n",
        "]"
      ],
      "metadata": {
        "id": "Vl7DXZDfRb2c"
      },
      "execution_count": 80,
      "outputs": []
    },
    {
      "cell_type": "code",
      "source": [
        "try:\n",
        "  %%time\n",
        "except:\n",
        "  pass\n",
        "\n",
        "# (Optional) Optimize by wrapping some of the code in a graph using TF function.\n",
        "agent.train = common.function(agent.train)\n",
        "\n",
        "# Reset the train step.\n",
        "agent.train_step_counter.assign(0)\n",
        "\n",
        "# Evaluate the agent's policy once before training.\n",
        "avg_return = compute_avg_return(eval_env, agent.policy, num_eval_episodes)\n",
        "returns = [avg_return]\n",
        "\n",
        "# Reset the environment.\n",
        "time_step = train_py_env.reset()\n",
        "\n",
        "from tf_agents.drivers.dynamic_step_driver import DynamicStepDriver\n",
        "\n",
        "collect_driver = DynamicStepDriver(\n",
        "    train_env,\n",
        "    agent.collect_policy,\n",
        "    observers=[replay_buffer_observer] + train_metrics,\n",
        "    num_steps=4) # collect 4 steps for each training iteration\n",
        "\n",
        "\n",
        "from tf_agents.eval.metric_utils import log_metrics\n",
        "\n",
        "\n",
        "for _ in range(num_iterations):\n",
        "    time_step = None\n",
        "    policy_state = agent.collect_policy.get_initial_state(train_env.batch_size)\n",
        "    iterator = iter(dataset)\n",
        "    for iteration in range(num_iterations):\n",
        "        time_step, policy_state = collect_driver.run(time_step, policy_state)\n",
        "        trajectories, buffer_info = next(iterator)\n",
        "        train_loss = agent.train(trajectories)\n",
        "        print(\"\\r{} loss:{:.5f}\".format(\n",
        "            iteration, train_loss.loss.numpy()), end=\"\")\n",
        "        if iteration % 1000 == 0:\n",
        "            log_metrics(train_metrics)"
      ],
      "metadata": {
        "colab": {
          "base_uri": "https://localhost:8080/"
        },
        "id": "ID8AZgDtQmVo",
        "outputId": "c18d356c-c88d-4836-eee5-8885ce8b447b"
      },
      "execution_count": null,
      "outputs": [
        {
          "output_type": "stream",
          "name": "stderr",
          "text": [
            "WARNING:tensorflow:From /usr/local/lib/python3.8/dist-packages/tensorflow/python/util/dispatch.py:1176: calling foldr_v2 (from tensorflow.python.ops.functional_ops) with back_prop=False is deprecated and will be removed in a future version.\n",
            "Instructions for updating:\n",
            "back_prop=False is deprecated. Consider using tf.stop_gradient instead.\n",
            "Instead of:\n",
            "results = tf.foldr(fn, elems, back_prop=False)\n",
            "Use:\n",
            "results = tf.nest.map_structure(tf.stop_gradient, tf.foldr(fn, elems))\n",
            "INFO:absl: \n",
            "\t\t NumberOfEpisodes = 0\n",
            "\t\t EnvironmentSteps = 4\n",
            "\t\t AverageReturn = 0.0\n",
            "\t\t AverageEpisodeLength = 0.0\n"
          ]
        },
        {
          "output_type": "stream",
          "name": "stdout",
          "text": [
            "999 loss:112.65930"
          ]
        },
        {
          "output_type": "stream",
          "name": "stderr",
          "text": [
            "INFO:absl: \n",
            "\t\t NumberOfEpisodes = 40\n",
            "\t\t EnvironmentSteps = 4004\n",
            "\t\t AverageReturn = -109.941162109375\n",
            "\t\t AverageEpisodeLength = 82.9000015258789\n"
          ]
        },
        {
          "output_type": "stream",
          "name": "stdout",
          "text": [
            "1998 loss:49.75027"
          ]
        },
        {
          "output_type": "stream",
          "name": "stderr",
          "text": [
            "INFO:absl: \n",
            "\t\t NumberOfEpisodes = 51\n",
            "\t\t EnvironmentSteps = 8004\n",
            "\t\t AverageReturn = -149.18099975585938\n",
            "\t\t AverageEpisodeLength = 337.70001220703125\n"
          ]
        },
        {
          "output_type": "stream",
          "name": "stdout",
          "text": [
            "2999 loss:25.45173"
          ]
        },
        {
          "output_type": "stream",
          "name": "stderr",
          "text": [
            "INFO:absl: \n",
            "\t\t NumberOfEpisodes = 55\n",
            "\t\t EnvironmentSteps = 12004\n",
            "\t\t AverageReturn = -141.82003784179688\n",
            "\t\t AverageEpisodeLength = 560.0\n"
          ]
        },
        {
          "output_type": "stream",
          "name": "stdout",
          "text": [
            "3998 loss:17.67897"
          ]
        },
        {
          "output_type": "stream",
          "name": "stderr",
          "text": [
            "INFO:absl: \n",
            "\t\t NumberOfEpisodes = 60\n",
            "\t\t EnvironmentSteps = 16004\n",
            "\t\t AverageReturn = -204.61135864257812\n",
            "\t\t AverageEpisodeLength = 904.7999877929688\n"
          ]
        },
        {
          "output_type": "stream",
          "name": "stdout",
          "text": [
            "4997 loss:1163.78076"
          ]
        },
        {
          "output_type": "stream",
          "name": "stderr",
          "text": [
            "INFO:absl: \n",
            "\t\t NumberOfEpisodes = 81\n",
            "\t\t EnvironmentSteps = 20004\n",
            "\t\t AverageReturn = -680.3724975585938\n",
            "\t\t AverageEpisodeLength = 190.5\n"
          ]
        },
        {
          "output_type": "stream",
          "name": "stdout",
          "text": [
            "5999 loss:171.53665"
          ]
        },
        {
          "output_type": "stream",
          "name": "stderr",
          "text": [
            "INFO:absl: \n",
            "\t\t NumberOfEpisodes = 106\n",
            "\t\t EnvironmentSteps = 24004\n",
            "\t\t AverageReturn = -664.0145263671875\n",
            "\t\t AverageEpisodeLength = 195.3000030517578\n"
          ]
        },
        {
          "output_type": "stream",
          "name": "stdout",
          "text": [
            "6998 loss:64.56642"
          ]
        },
        {
          "output_type": "stream",
          "name": "stderr",
          "text": [
            "INFO:absl: \n",
            "\t\t NumberOfEpisodes = 124\n",
            "\t\t EnvironmentSteps = 28004\n",
            "\t\t AverageReturn = -580.4025268554688\n",
            "\t\t AverageEpisodeLength = 166.6999969482422\n"
          ]
        },
        {
          "output_type": "stream",
          "name": "stdout",
          "text": [
            "7997 loss:161.57950"
          ]
        },
        {
          "output_type": "stream",
          "name": "stderr",
          "text": [
            "INFO:absl: \n",
            "\t\t NumberOfEpisodes = 142\n",
            "\t\t EnvironmentSteps = 32004\n",
            "\t\t AverageReturn = -763.5363159179688\n",
            "\t\t AverageEpisodeLength = 244.3000030517578\n"
          ]
        },
        {
          "output_type": "stream",
          "name": "stdout",
          "text": [
            "8998 loss:444.45972"
          ]
        },
        {
          "output_type": "stream",
          "name": "stderr",
          "text": [
            "INFO:absl: \n",
            "\t\t NumberOfEpisodes = 160\n",
            "\t\t EnvironmentSteps = 36004\n",
            "\t\t AverageReturn = -643.0206298828125\n",
            "\t\t AverageEpisodeLength = 209.60000610351562\n"
          ]
        },
        {
          "output_type": "stream",
          "name": "stdout",
          "text": [
            "9997 loss:4429.52246"
          ]
        },
        {
          "output_type": "stream",
          "name": "stderr",
          "text": [
            "INFO:absl: \n",
            "\t\t NumberOfEpisodes = 180\n",
            "\t\t EnvironmentSteps = 40004\n",
            "\t\t AverageReturn = -640.485595703125\n",
            "\t\t AverageEpisodeLength = 163.39999389648438\n"
          ]
        },
        {
          "output_type": "stream",
          "name": "stdout",
          "text": [
            "10997 loss:755.34003"
          ]
        },
        {
          "output_type": "stream",
          "name": "stderr",
          "text": [
            "INFO:absl: \n",
            "\t\t NumberOfEpisodes = 204\n",
            "\t\t EnvironmentSteps = 44004\n",
            "\t\t AverageReturn = -509.98193359375\n",
            "\t\t AverageEpisodeLength = 164.60000610351562\n"
          ]
        },
        {
          "output_type": "stream",
          "name": "stdout",
          "text": [
            "11998 loss:881.22766"
          ]
        },
        {
          "output_type": "stream",
          "name": "stderr",
          "text": [
            "INFO:absl: \n",
            "\t\t NumberOfEpisodes = 228\n",
            "\t\t EnvironmentSteps = 48004\n",
            "\t\t AverageReturn = -772.5462036132812\n",
            "\t\t AverageEpisodeLength = 179.6999969482422\n"
          ]
        },
        {
          "output_type": "stream",
          "name": "stdout",
          "text": [
            "12997 loss:32043.97852"
          ]
        },
        {
          "output_type": "stream",
          "name": "stderr",
          "text": [
            "INFO:absl: \n",
            "\t\t NumberOfEpisodes = 244\n",
            "\t\t EnvironmentSteps = 52004\n",
            "\t\t AverageReturn = -672.1407470703125\n",
            "\t\t AverageEpisodeLength = 260.79998779296875\n"
          ]
        },
        {
          "output_type": "stream",
          "name": "stdout",
          "text": [
            "13998 loss:288.14130"
          ]
        },
        {
          "output_type": "stream",
          "name": "stderr",
          "text": [
            "INFO:absl: \n",
            "\t\t NumberOfEpisodes = 254\n",
            "\t\t EnvironmentSteps = 56004\n",
            "\t\t AverageReturn = -1056.455810546875\n",
            "\t\t AverageEpisodeLength = 414.6000061035156\n"
          ]
        },
        {
          "output_type": "stream",
          "name": "stdout",
          "text": [
            "14999 loss:389.29187"
          ]
        },
        {
          "output_type": "stream",
          "name": "stderr",
          "text": [
            "INFO:absl: \n",
            "\t\t NumberOfEpisodes = 264\n",
            "\t\t EnvironmentSteps = 60004\n",
            "\t\t AverageReturn = -670.8002319335938\n",
            "\t\t AverageEpisodeLength = 383.0\n"
          ]
        },
        {
          "output_type": "stream",
          "name": "stdout",
          "text": [
            "15997 loss:1586.58350"
          ]
        },
        {
          "output_type": "stream",
          "name": "stderr",
          "text": [
            "INFO:absl: \n",
            "\t\t NumberOfEpisodes = 277\n",
            "\t\t EnvironmentSteps = 64004\n",
            "\t\t AverageReturn = -621.2447509765625\n",
            "\t\t AverageEpisodeLength = 327.70001220703125\n"
          ]
        },
        {
          "output_type": "stream",
          "name": "stdout",
          "text": [
            "16997 loss:683.13214"
          ]
        },
        {
          "output_type": "stream",
          "name": "stderr",
          "text": [
            "INFO:absl: \n",
            "\t\t NumberOfEpisodes = 290\n",
            "\t\t EnvironmentSteps = 68004\n",
            "\t\t AverageReturn = -541.3784790039062\n",
            "\t\t AverageEpisodeLength = 325.3999938964844\n"
          ]
        },
        {
          "output_type": "stream",
          "name": "stdout",
          "text": [
            "17999 loss:14917.24219"
          ]
        },
        {
          "output_type": "stream",
          "name": "stderr",
          "text": [
            "INFO:absl: \n",
            "\t\t NumberOfEpisodes = 301\n",
            "\t\t EnvironmentSteps = 72004\n",
            "\t\t AverageReturn = -487.31036376953125\n",
            "\t\t AverageEpisodeLength = 356.1000061035156\n"
          ]
        },
        {
          "output_type": "stream",
          "name": "stdout",
          "text": [
            "18998 loss:589.55249"
          ]
        },
        {
          "output_type": "stream",
          "name": "stderr",
          "text": [
            "INFO:absl: \n",
            "\t\t NumberOfEpisodes = 312\n",
            "\t\t EnvironmentSteps = 76004\n",
            "\t\t AverageReturn = -809.5801391601562\n",
            "\t\t AverageEpisodeLength = 328.3999938964844\n"
          ]
        },
        {
          "output_type": "stream",
          "name": "stdout",
          "text": [
            "19999 loss:948.70593"
          ]
        },
        {
          "output_type": "stream",
          "name": "stderr",
          "text": [
            "INFO:absl: \n",
            "\t\t NumberOfEpisodes = 324\n",
            "\t\t EnvironmentSteps = 80004\n",
            "\t\t AverageReturn = -1107.1058349609375\n",
            "\t\t AverageEpisodeLength = 285.6000061035156\n"
          ]
        },
        {
          "output_type": "stream",
          "name": "stdout",
          "text": [
            "999 loss:40166.27344"
          ]
        },
        {
          "output_type": "stream",
          "name": "stderr",
          "text": [
            "INFO:absl: \n",
            "\t\t NumberOfEpisodes = 350\n",
            "\t\t EnvironmentSteps = 84004\n",
            "\t\t AverageReturn = -672.0318603515625\n",
            "\t\t AverageEpisodeLength = 123.4000015258789\n"
          ]
        },
        {
          "output_type": "stream",
          "name": "stdout",
          "text": [
            "1997 loss:12904.73047"
          ]
        },
        {
          "output_type": "stream",
          "name": "stderr",
          "text": [
            "INFO:absl: \n",
            "\t\t NumberOfEpisodes = 374\n",
            "\t\t EnvironmentSteps = 88004\n",
            "\t\t AverageReturn = -1047.0740966796875\n",
            "\t\t AverageEpisodeLength = 169.3000030517578\n"
          ]
        },
        {
          "output_type": "stream",
          "name": "stdout",
          "text": [
            "2999 loss:15890.94629"
          ]
        },
        {
          "output_type": "stream",
          "name": "stderr",
          "text": [
            "INFO:absl: \n",
            "\t\t NumberOfEpisodes = 404\n",
            "\t\t EnvironmentSteps = 92004\n",
            "\t\t AverageReturn = -899.81005859375\n",
            "\t\t AverageEpisodeLength = 136.39999389648438\n"
          ]
        },
        {
          "output_type": "stream",
          "name": "stdout",
          "text": [
            "3998 loss:33760.00000"
          ]
        },
        {
          "output_type": "stream",
          "name": "stderr",
          "text": [
            "INFO:absl: \n",
            "\t\t NumberOfEpisodes = 430\n",
            "\t\t EnvironmentSteps = 96004\n",
            "\t\t AverageReturn = -548.1636962890625\n",
            "\t\t AverageEpisodeLength = 106.4000015258789\n"
          ]
        },
        {
          "output_type": "stream",
          "name": "stdout",
          "text": [
            "4997 loss:39685.73438"
          ]
        },
        {
          "output_type": "stream",
          "name": "stderr",
          "text": [
            "INFO:absl: \n",
            "\t\t NumberOfEpisodes = 460\n",
            "\t\t EnvironmentSteps = 100004\n",
            "\t\t AverageReturn = -552.7630004882812\n",
            "\t\t AverageEpisodeLength = 120.19999694824219\n"
          ]
        },
        {
          "output_type": "stream",
          "name": "stdout",
          "text": [
            "5999 loss:359793.75000"
          ]
        },
        {
          "output_type": "stream",
          "name": "stderr",
          "text": [
            "INFO:absl: \n",
            "\t\t NumberOfEpisodes = 485\n",
            "\t\t EnvironmentSteps = 104004\n",
            "\t\t AverageReturn = -658.3072509765625\n",
            "\t\t AverageEpisodeLength = 138.89999389648438\n"
          ]
        },
        {
          "output_type": "stream",
          "name": "stdout",
          "text": [
            "6998 loss:580617.93750"
          ]
        },
        {
          "output_type": "stream",
          "name": "stderr",
          "text": [
            "INFO:absl: \n",
            "\t\t NumberOfEpisodes = 511\n",
            "\t\t EnvironmentSteps = 108004\n",
            "\t\t AverageReturn = -653.8701171875\n",
            "\t\t AverageEpisodeLength = 158.6999969482422\n"
          ]
        },
        {
          "output_type": "stream",
          "name": "stdout",
          "text": [
            "7997 loss:23075.23242"
          ]
        },
        {
          "output_type": "stream",
          "name": "stderr",
          "text": [
            "INFO:absl: \n",
            "\t\t NumberOfEpisodes = 530\n",
            "\t\t EnvironmentSteps = 112004\n",
            "\t\t AverageReturn = -736.3297119140625\n",
            "\t\t AverageEpisodeLength = 213.0\n"
          ]
        },
        {
          "output_type": "stream",
          "name": "stdout",
          "text": [
            "8999 loss:39362.54688"
          ]
        },
        {
          "output_type": "stream",
          "name": "stderr",
          "text": [
            "INFO:absl: \n",
            "\t\t NumberOfEpisodes = 549\n",
            "\t\t EnvironmentSteps = 116004\n",
            "\t\t AverageReturn = -741.25390625\n",
            "\t\t AverageEpisodeLength = 214.6999969482422\n"
          ]
        },
        {
          "output_type": "stream",
          "name": "stdout",
          "text": [
            "9997 loss:25477.87891"
          ]
        },
        {
          "output_type": "stream",
          "name": "stderr",
          "text": [
            "INFO:absl: \n",
            "\t\t NumberOfEpisodes = 569\n",
            "\t\t EnvironmentSteps = 120004\n",
            "\t\t AverageReturn = -646.32470703125\n",
            "\t\t AverageEpisodeLength = 172.60000610351562\n"
          ]
        },
        {
          "output_type": "stream",
          "name": "stdout",
          "text": [
            "10998 loss:924839.50000"
          ]
        },
        {
          "output_type": "stream",
          "name": "stderr",
          "text": [
            "INFO:absl: \n",
            "\t\t NumberOfEpisodes = 586\n",
            "\t\t EnvironmentSteps = 124004\n",
            "\t\t AverageReturn = -951.1920776367188\n",
            "\t\t AverageEpisodeLength = 302.3999938964844\n"
          ]
        },
        {
          "output_type": "stream",
          "name": "stdout",
          "text": [
            "11999 loss:69521.71094"
          ]
        },
        {
          "output_type": "stream",
          "name": "stderr",
          "text": [
            "INFO:absl: \n",
            "\t\t NumberOfEpisodes = 598\n",
            "\t\t EnvironmentSteps = 128004\n",
            "\t\t AverageReturn = -690.3816528320312\n",
            "\t\t AverageEpisodeLength = 292.79998779296875\n"
          ]
        },
        {
          "output_type": "stream",
          "name": "stdout",
          "text": [
            "12997 loss:1388202.25000"
          ]
        },
        {
          "output_type": "stream",
          "name": "stderr",
          "text": [
            "INFO:absl: \n",
            "\t\t NumberOfEpisodes = 609\n",
            "\t\t EnvironmentSteps = 132004\n",
            "\t\t AverageReturn = -731.892578125\n",
            "\t\t AverageEpisodeLength = 363.6000061035156\n"
          ]
        },
        {
          "output_type": "stream",
          "name": "stdout",
          "text": [
            "13998 loss:45282.07031"
          ]
        },
        {
          "output_type": "stream",
          "name": "stderr",
          "text": [
            "INFO:absl: \n",
            "\t\t NumberOfEpisodes = 620\n",
            "\t\t EnvironmentSteps = 136004\n",
            "\t\t AverageReturn = -955.6232299804688\n",
            "\t\t AverageEpisodeLength = 375.29998779296875\n"
          ]
        },
        {
          "output_type": "stream",
          "name": "stdout",
          "text": [
            "14997 loss:27966.43750"
          ]
        },
        {
          "output_type": "stream",
          "name": "stderr",
          "text": [
            "INFO:absl: \n",
            "\t\t NumberOfEpisodes = 634\n",
            "\t\t EnvironmentSteps = 140004\n",
            "\t\t AverageReturn = -545.0158081054688\n",
            "\t\t AverageEpisodeLength = 278.3999938964844\n"
          ]
        },
        {
          "output_type": "stream",
          "name": "stdout",
          "text": [
            "15999 loss:21296.80273"
          ]
        },
        {
          "output_type": "stream",
          "name": "stderr",
          "text": [
            "INFO:absl: \n",
            "\t\t NumberOfEpisodes = 645\n",
            "\t\t EnvironmentSteps = 144004\n",
            "\t\t AverageReturn = -789.7206420898438\n",
            "\t\t AverageEpisodeLength = 353.20001220703125\n"
          ]
        },
        {
          "output_type": "stream",
          "name": "stdout",
          "text": [
            "16997 loss:26618.50000"
          ]
        },
        {
          "output_type": "stream",
          "name": "stderr",
          "text": [
            "INFO:absl: \n",
            "\t\t NumberOfEpisodes = 656\n",
            "\t\t EnvironmentSteps = 148004\n",
            "\t\t AverageReturn = -508.90008544921875\n",
            "\t\t AverageEpisodeLength = 386.79998779296875\n"
          ]
        },
        {
          "output_type": "stream",
          "name": "stdout",
          "text": [
            "17998 loss:19192.73828"
          ]
        },
        {
          "output_type": "stream",
          "name": "stderr",
          "text": [
            "INFO:absl: \n",
            "\t\t NumberOfEpisodes = 664\n",
            "\t\t EnvironmentSteps = 152004\n",
            "\t\t AverageReturn = -673.8842163085938\n",
            "\t\t AverageEpisodeLength = 452.3999938964844\n"
          ]
        },
        {
          "output_type": "stream",
          "name": "stdout",
          "text": [
            "18998 loss:821933.31250"
          ]
        },
        {
          "output_type": "stream",
          "name": "stderr",
          "text": [
            "INFO:absl: \n",
            "\t\t NumberOfEpisodes = 674\n",
            "\t\t EnvironmentSteps = 156004\n",
            "\t\t AverageReturn = -845.6311645507812\n",
            "\t\t AverageEpisodeLength = 398.70001220703125\n"
          ]
        },
        {
          "output_type": "stream",
          "name": "stdout",
          "text": [
            "19998 loss:142853.62500"
          ]
        },
        {
          "output_type": "stream",
          "name": "stderr",
          "text": [
            "INFO:absl: \n",
            "\t\t NumberOfEpisodes = 682\n",
            "\t\t EnvironmentSteps = 160004\n",
            "\t\t AverageReturn = -603.2645263671875\n",
            "\t\t AverageEpisodeLength = 470.29998779296875\n"
          ]
        },
        {
          "output_type": "stream",
          "name": "stdout",
          "text": [
            "998 loss:22036.95508"
          ]
        },
        {
          "output_type": "stream",
          "name": "stderr",
          "text": [
            "INFO:absl: \n",
            "\t\t NumberOfEpisodes = 692\n",
            "\t\t EnvironmentSteps = 164004\n",
            "\t\t AverageReturn = -825.0173950195312\n",
            "\t\t AverageEpisodeLength = 415.79998779296875\n"
          ]
        },
        {
          "output_type": "stream",
          "name": "stdout",
          "text": [
            "1997 loss:19673.66406"
          ]
        },
        {
          "output_type": "stream",
          "name": "stderr",
          "text": [
            "INFO:absl: \n",
            "\t\t NumberOfEpisodes = 701\n",
            "\t\t EnvironmentSteps = 168004\n",
            "\t\t AverageReturn = -638.626220703125\n",
            "\t\t AverageEpisodeLength = 424.1000061035156\n"
          ]
        },
        {
          "output_type": "stream",
          "name": "stdout",
          "text": [
            "2999 loss:27952.20508"
          ]
        },
        {
          "output_type": "stream",
          "name": "stderr",
          "text": [
            "INFO:absl: \n",
            "\t\t NumberOfEpisodes = 709\n",
            "\t\t EnvironmentSteps = 172004\n",
            "\t\t AverageReturn = -655.0856323242188\n",
            "\t\t AverageEpisodeLength = 514.7000122070312\n"
          ]
        },
        {
          "output_type": "stream",
          "name": "stdout",
          "text": [
            "3998 loss:20611.11719"
          ]
        },
        {
          "output_type": "stream",
          "name": "stderr",
          "text": [
            "INFO:absl: \n",
            "\t\t NumberOfEpisodes = 716\n",
            "\t\t EnvironmentSteps = 176004\n",
            "\t\t AverageReturn = -566.7396240234375\n",
            "\t\t AverageEpisodeLength = 538.4000244140625\n"
          ]
        },
        {
          "output_type": "stream",
          "name": "stdout",
          "text": [
            "4998 loss:29323.46289"
          ]
        },
        {
          "output_type": "stream",
          "name": "stderr",
          "text": [
            "INFO:absl: \n",
            "\t\t NumberOfEpisodes = 726\n",
            "\t\t EnvironmentSteps = 180004\n",
            "\t\t AverageReturn = -801.40234375\n",
            "\t\t AverageEpisodeLength = 435.3999938964844\n"
          ]
        },
        {
          "output_type": "stream",
          "name": "stdout",
          "text": [
            "5997 loss:34323.77344"
          ]
        },
        {
          "output_type": "stream",
          "name": "stderr",
          "text": [
            "INFO:absl: \n",
            "\t\t NumberOfEpisodes = 734\n",
            "\t\t EnvironmentSteps = 184004\n",
            "\t\t AverageReturn = -737.4431762695312\n",
            "\t\t AverageEpisodeLength = 464.0\n"
          ]
        },
        {
          "output_type": "stream",
          "name": "stdout",
          "text": [
            "6998 loss:1189426.25000"
          ]
        },
        {
          "output_type": "stream",
          "name": "stderr",
          "text": [
            "INFO:absl: \n",
            "\t\t NumberOfEpisodes = 742\n",
            "\t\t EnvironmentSteps = 188004\n",
            "\t\t AverageReturn = -685.1698608398438\n",
            "\t\t AverageEpisodeLength = 487.3999938964844\n"
          ]
        },
        {
          "output_type": "stream",
          "name": "stdout",
          "text": [
            "7997 loss:48674.00781"
          ]
        },
        {
          "output_type": "stream",
          "name": "stderr",
          "text": [
            "INFO:absl: \n",
            "\t\t NumberOfEpisodes = 750\n",
            "\t\t EnvironmentSteps = 192004\n",
            "\t\t AverageReturn = -627.6983642578125\n",
            "\t\t AverageEpisodeLength = 507.70001220703125\n"
          ]
        },
        {
          "output_type": "stream",
          "name": "stdout",
          "text": [
            "8997 loss:17062.72461"
          ]
        },
        {
          "output_type": "stream",
          "name": "stderr",
          "text": [
            "INFO:absl: \n",
            "\t\t NumberOfEpisodes = 758\n",
            "\t\t EnvironmentSteps = 196004\n",
            "\t\t AverageReturn = -538.1753540039062\n",
            "\t\t AverageEpisodeLength = 519.7999877929688\n"
          ]
        },
        {
          "output_type": "stream",
          "name": "stdout",
          "text": [
            "9997 loss:12255.93066"
          ]
        },
        {
          "output_type": "stream",
          "name": "stderr",
          "text": [
            "INFO:absl: \n",
            "\t\t NumberOfEpisodes = 766\n",
            "\t\t EnvironmentSteps = 200004\n",
            "\t\t AverageReturn = -1284.028076171875\n",
            "\t\t AverageEpisodeLength = 544.0\n"
          ]
        },
        {
          "output_type": "stream",
          "name": "stdout",
          "text": [
            "10998 loss:24765.19922"
          ]
        },
        {
          "output_type": "stream",
          "name": "stderr",
          "text": [
            "INFO:absl: \n",
            "\t\t NumberOfEpisodes = 773\n",
            "\t\t EnvironmentSteps = 204004\n",
            "\t\t AverageReturn = -988.6407470703125\n",
            "\t\t AverageEpisodeLength = 512.0\n"
          ]
        },
        {
          "output_type": "stream",
          "name": "stdout",
          "text": [
            "11999 loss:18796.97852"
          ]
        },
        {
          "output_type": "stream",
          "name": "stderr",
          "text": [
            "INFO:absl: \n",
            "\t\t NumberOfEpisodes = 783\n",
            "\t\t EnvironmentSteps = 208004\n",
            "\t\t AverageReturn = -656.2778930664062\n",
            "\t\t AverageEpisodeLength = 432.6000061035156\n"
          ]
        },
        {
          "output_type": "stream",
          "name": "stdout",
          "text": [
            "12998 loss:21264.71484"
          ]
        },
        {
          "output_type": "stream",
          "name": "stderr",
          "text": [
            "INFO:absl: \n",
            "\t\t NumberOfEpisodes = 791\n",
            "\t\t EnvironmentSteps = 212004\n",
            "\t\t AverageReturn = -1290.48974609375\n",
            "\t\t AverageEpisodeLength = 520.9000244140625\n"
          ]
        },
        {
          "output_type": "stream",
          "name": "stdout",
          "text": [
            "13998 loss:42079.81250"
          ]
        },
        {
          "output_type": "stream",
          "name": "stderr",
          "text": [
            "INFO:absl: \n",
            "\t\t NumberOfEpisodes = 802\n",
            "\t\t EnvironmentSteps = 216004\n",
            "\t\t AverageReturn = -965.3460083007812\n",
            "\t\t AverageEpisodeLength = 361.79998779296875\n"
          ]
        },
        {
          "output_type": "stream",
          "name": "stdout",
          "text": [
            "14999 loss:321224.81250"
          ]
        },
        {
          "output_type": "stream",
          "name": "stderr",
          "text": [
            "INFO:absl: \n",
            "\t\t NumberOfEpisodes = 837\n",
            "\t\t EnvironmentSteps = 220004\n",
            "\t\t AverageReturn = -343.50091552734375\n",
            "\t\t AverageEpisodeLength = 90.30000305175781\n"
          ]
        },
        {
          "output_type": "stream",
          "name": "stdout",
          "text": [
            "15999 loss:2962230.25000"
          ]
        },
        {
          "output_type": "stream",
          "name": "stderr",
          "text": [
            "INFO:absl: \n",
            "\t\t NumberOfEpisodes = 878\n",
            "\t\t EnvironmentSteps = 224004\n",
            "\t\t AverageReturn = -702.25634765625\n",
            "\t\t AverageEpisodeLength = 124.0999984741211\n"
          ]
        },
        {
          "output_type": "stream",
          "name": "stdout",
          "text": [
            "16997 loss:2354510.75000"
          ]
        },
        {
          "output_type": "stream",
          "name": "stderr",
          "text": [
            "INFO:absl: \n",
            "\t\t NumberOfEpisodes = 916\n",
            "\t\t EnvironmentSteps = 228004\n",
            "\t\t AverageReturn = -598.3436889648438\n",
            "\t\t AverageEpisodeLength = 100.9000015258789\n"
          ]
        },
        {
          "output_type": "stream",
          "name": "stdout",
          "text": [
            "17998 loss:3170419968.00000"
          ]
        },
        {
          "output_type": "stream",
          "name": "stderr",
          "text": [
            "INFO:absl: \n",
            "\t\t NumberOfEpisodes = 946\n",
            "\t\t EnvironmentSteps = 232004\n",
            "\t\t AverageReturn = -874.5178833007812\n",
            "\t\t AverageEpisodeLength = 140.3000030517578\n"
          ]
        },
        {
          "output_type": "stream",
          "name": "stdout",
          "text": [
            "18997 loss:3685522.00000"
          ]
        },
        {
          "output_type": "stream",
          "name": "stderr",
          "text": [
            "INFO:absl: \n",
            "\t\t NumberOfEpisodes = 979\n",
            "\t\t EnvironmentSteps = 236004\n",
            "\t\t AverageReturn = -594.6182861328125\n",
            "\t\t AverageEpisodeLength = 98.9000015258789\n"
          ]
        },
        {
          "output_type": "stream",
          "name": "stdout",
          "text": [
            "19999 loss:38621836.00000"
          ]
        },
        {
          "output_type": "stream",
          "name": "stderr",
          "text": [
            "INFO:absl: \n",
            "\t\t NumberOfEpisodes = 1008\n",
            "\t\t EnvironmentSteps = 240004\n",
            "\t\t AverageReturn = -894.1331787109375\n",
            "\t\t AverageEpisodeLength = 157.60000610351562\n"
          ]
        },
        {
          "output_type": "stream",
          "name": "stdout",
          "text": [
            "997 loss:12808826.00000"
          ]
        },
        {
          "output_type": "stream",
          "name": "stderr",
          "text": [
            "INFO:absl: \n",
            "\t\t NumberOfEpisodes = 1035\n",
            "\t\t EnvironmentSteps = 244004\n",
            "\t\t AverageReturn = -869.3602294921875\n",
            "\t\t AverageEpisodeLength = 141.1999969482422\n"
          ]
        },
        {
          "output_type": "stream",
          "name": "stdout",
          "text": [
            "1998 loss:5831336.00000"
          ]
        },
        {
          "output_type": "stream",
          "name": "stderr",
          "text": [
            "INFO:absl: \n",
            "\t\t NumberOfEpisodes = 1063\n",
            "\t\t EnvironmentSteps = 248004\n",
            "\t\t AverageReturn = -948.8543090820312\n",
            "\t\t AverageEpisodeLength = 171.39999389648438\n"
          ]
        },
        {
          "output_type": "stream",
          "name": "stdout",
          "text": [
            "3000 loss:6175832.50000"
          ]
        },
        {
          "output_type": "stream",
          "name": "stderr",
          "text": [
            "INFO:absl: \n",
            "\t\t NumberOfEpisodes = 1091\n",
            "\t\t EnvironmentSteps = 252004\n",
            "\t\t AverageReturn = -643.9649047851562\n",
            "\t\t AverageEpisodeLength = 138.5\n"
          ]
        },
        {
          "output_type": "stream",
          "name": "stdout",
          "text": [
            "3999 loss:4438471680.00000"
          ]
        },
        {
          "output_type": "stream",
          "name": "stderr",
          "text": [
            "INFO:absl: \n",
            "\t\t NumberOfEpisodes = 1120\n",
            "\t\t EnvironmentSteps = 256004\n",
            "\t\t AverageReturn = -610.79296875\n",
            "\t\t AverageEpisodeLength = 132.89999389648438\n"
          ]
        },
        {
          "output_type": "stream",
          "name": "stdout",
          "text": [
            "4260 loss:6559759.50000"
          ]
        }
      ]
    },
    {
      "cell_type": "code",
      "source": [
        "iterations = range(0, num_iterations + 1, eval_interval)\n",
        "plt.plot(iterations, returns)\n",
        "plt.ylabel('Average Return')\n",
        "plt.xlabel('Iterations')\n",
        "plt.ylim(top=250)"
      ],
      "metadata": {
        "id": "sdYRN46NOa4s"
      },
      "execution_count": null,
      "outputs": []
    },
    {
      "cell_type": "code",
      "source": [
        "def embed_mp4(filename):\n",
        "  \"\"\"Embeds an mp4 file in the notebook.\"\"\"\n",
        "  video = open(filename,'rb').read()\n",
        "  b64 = base64.b64encode(video)\n",
        "  tag = '''\n",
        "  '''.format(b64.decode())\n",
        "\n",
        "  return IPython.display.HTML(tag)"
      ],
      "metadata": {
        "id": "RqUzQdu6SX0-"
      },
      "execution_count": null,
      "outputs": []
    },
    {
      "cell_type": "code",
      "source": [
        "def create_policy_eval_video(policy, filename, num_episodes=5, fps=30):\n",
        "  filename = filename + \".mp4\"\n",
        "  with imageio.get_writer(filename, fps=fps) as video:\n",
        "    for _ in range(num_episodes):\n",
        "      time_step = eval_env.reset()\n",
        "      video.append_data(eval_py_env.render())\n",
        "      while not time_step.is_last():\n",
        "        action_step = policy.action(time_step)\n",
        "        time_step = eval_env.step(action_step.action)\n",
        "        video.append_data(eval_py_env.render())\n",
        "  return embed_mp4(filename)\n",
        "\n",
        "create_policy_eval_video(agent.policy, \"trained-agent\")"
      ],
      "metadata": {
        "id": "PqQogQozSeY8"
      },
      "execution_count": null,
      "outputs": []
    },
    {
      "cell_type": "code",
      "source": [
        "create_policy_eval_video(random_policy, \"random-agent\")"
      ],
      "metadata": {
        "id": "bqTqlx6zSgsl"
      },
      "execution_count": null,
      "outputs": []
    }
  ]
}